{
 "cells": [
  {
   "cell_type": "code",
   "execution_count": 38,
   "metadata": {},
   "outputs": [
    {
     "name": "stdin",
     "output_type": "stream",
     "text": [
      "Please enter your message:  Hello World!\n"
     ]
    },
    {
     "name": "stdout",
     "output_type": "stream",
     "text": [
      "['....', '.', '.-..', '.-..', '---', ' ', '.--', '---', '.-.', '.-..', '-..', '-.-.--']\n"
     ]
    }
   ],
   "source": [
    "morse_code = {'A':'.-', 'B':'-...', 'C':'-.-.', 'D':'-..', 'E':'.', 'F':'..-.', 'G':'--.', 'H':'....',\n",
    "              'I':'..', 'J':'.---', 'K':'-.-', 'L':'.-..', 'M':'--', 'N':'-.', 'O':'---', 'P':'.--.', 'Q':'--.-',\n",
    "              'R':'.-.', 'S':'...', 'T':'-', 'U':'..-', 'V':'...-', 'W':'.--', 'X':'-..-', 'Y':'-.--', 'Z':'--..',\n",
    "              ' ':' ', '0':'-----', '1':'.----', '2':'..---', '3':'...--', '4':'....-', '5':'.....', '6':'-....',\n",
    "              '7':'--...', '8':'---..', '9':'----.', '&':'.-...', \"´\":'.----.', '@':'.--.-.', ',':'--..--', \n",
    "              ')':'-.--.-', '(':'-.--.', '.':'.-.-.-', '=':'-...-', '!':'-.-.--', '.':'.-.-.-', '-':'-....-',\n",
    "              '+':'.-.-.', '\"':'.-..-.', '?':'..--..', '/':'-..-.', }\n",
    "\n",
    "def encrypting(message):\n",
    "    encrypted = []\n",
    "    for l in message:\n",
    "        if l in morse_code:\n",
    "            encrypted.append(morse_code[l])\n",
    "    return encrypted\n",
    "\n",
    "def main():\n",
    "    message = input(\"Please enter your message: \")\n",
    "    #message = \"Hello World!\"\n",
    "    result = encrypting(message.upper())\n",
    "    print(result)\n",
    "    \n",
    "if __name__=='__main__':\n",
    "    main()"
   ]
  },
  {
   "cell_type": "code",
   "execution_count": null,
   "metadata": {},
   "outputs": [],
   "source": []
  }
 ],
 "metadata": {
  "kernelspec": {
   "display_name": "Python 3",
   "language": "python",
   "name": "python3"
  },
  "language_info": {
   "codemirror_mode": {
    "name": "ipython",
    "version": 3
   },
   "file_extension": ".py",
   "mimetype": "text/x-python",
   "name": "python",
   "nbconvert_exporter": "python",
   "pygments_lexer": "ipython3",
   "version": "3.8.5"
  }
 },
 "nbformat": 4,
 "nbformat_minor": 4
}
